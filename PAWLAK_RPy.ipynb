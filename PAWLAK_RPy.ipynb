{
 "cells": [
  {
   "cell_type": "markdown",
   "metadata": {},
   "source": [
    "# Projet Rpy"
   ]
  },
  {
   "cell_type": "markdown",
   "metadata": {},
   "source": [
    "## Python importation"
   ]
  },
  {
   "cell_type": "code",
   "execution_count": null,
   "metadata": {},
   "outputs": [],
   "source": [
    "#!/usr/bin/env python3\n",
    "# -*- coding: ISO-8859-1 -*-\n",
    "import os\n",
    "import pandas as pd\n",
    "import matplotlib.pyplot as plt\n",
    "import numpy as np\n",
    "import seaborn as sns\n",
    "import statistics\n",
    "\t\n",
    "from sklearn.utils import resample"
   ]
  },
  {
   "cell_type": "markdown",
   "metadata": {},
   "source": [
    "## Rpy2 importation"
   ]
  },
  {
   "cell_type": "code",
   "execution_count": 31,
   "metadata": {},
   "outputs": [
    {
     "name": "stderr",
     "output_type": "stream",
     "text": [
      "R[write to console]: Installation du package dans ‘/home/jofriii/R/x86_64-pc-linux-gnu-library/3.6’\n",
      "(car ‘lib’ n'est pas spécifié)\n",
      "\n"
     ]
    }
   ],
   "source": [
    "from rpy2 import robjects\n",
    "import rpy2.robjects as ro\n",
    "import rpy2.robjects.packages as rpackages\n",
    "from rpy2.robjects import Formula, Environment\n",
    "from rpy2.robjects.vectors import IntVector, FloatVector, StrVector\n",
    "from rpy2.robjects.lib import grid\n",
    "from rpy2.robjects.packages import importr, data\n",
    "from rpy2.rinterface_lib.embedded import RRuntimeError\n",
    "from functools import partial\n",
    "from rpy2.ipython import html\n",
    "from rpy2.robjects import pandas2ri\n",
    "\n",
    "from rpy2.robjects.conversion import localconverter\n",
    "import warnings\n",
    "\n",
    "# R package names\n",
    "packnames = ('ggplot2', 'stats','grDevices','readr','knitr','ggpllot2','dplyr','tidyr','questionr')\n",
    "\n",
    "utils = importr('utils')\n",
    "# Selectively install what needs to be install.\n",
    "# We are fancy, just because we can.\n",
    "names_to_install = [x for x in packnames if not rpackages.isinstalled(x)]\n",
    "if len(names_to_install) > 0:\n",
    "    utils.install_packages(StrVector(names_to_install))\n",
    "\n",
    "# Recoding R function which make them available in Python\n",
    "\n",
    "rprint = robjects.globalenv.find(\"print\")\n",
    "stats = importr('stats')\n",
    "grdevices = importr('grDevices')\n",
    "base = importr('base')\n",
    "summarytools = importr('summarytools')\n",
    "readr = importr('readr')\n",
    "knitr = importr('knitr')\n",
    "ggplot2 = importr('ggplot2')\n",
    "dplyr = importr('dplyr')\n",
    "tidyr = importr('tidyr')\n",
    "questionr = importr('questionr')\n",
    "nortest = importr('nortest')\n",
    "\n",
    "# For notebook\n",
    "html.html_rdataframe=partial(html.html_rdataframe, table_class=\"docutils\")\n"
   ]
  },
  {
   "cell_type": "markdown",
   "metadata": {},
   "source": [
    "## Dataset loading"
   ]
  },
  {
   "cell_type": "code",
   "execution_count": null,
   "metadata": {},
   "outputs": [],
   "source": [
    "pd.set_option('display.max_columns', None)\n",
    "path = \"/home/jofriii/Documents/M1_DSS/Rpy/Rea/export_data.csv\"\n",
    "data = pd.read_csv(path, delimiter=\";\", encoding=\"iso-8859-1\", low_memory=False, decimal=',')"
   ]
  },
  {
   "cell_type": "markdown",
   "metadata": {},
   "source": [
    "## Exploratory analysis"
   ]
  },
  {
   "cell_type": "markdown",
   "metadata": {},
   "source": [
    "### Selecting data of interrest and visualisation"
   ]
  },
  {
   "cell_type": "code",
   "execution_count": null,
   "metadata": {},
   "outputs": [],
   "source": [
    "stat_descriptives = data.iloc[:,0:16]\n",
    "stat_descriptives['DUREE_SEJOUR'] = data['DUREE_SEJOUR_INTERV'].values\n",
    "stat_descriptives = stat_descriptives.drop(['ID_INTERVENTION',\n",
    "                                              'ID_PATIENT',\n",
    "                                              'POIDS_IDEAL_LORENTZ',\n",
    "                                              'POIDS_IDEAL',\n",
    "                                              'DELTA_POIDS_POIDS_IDEAL',\n",
    "                                             'URGENCE',\n",
    "                                           \"CATEGORIE_AGE_ADULTE\"], axis = 1)\n",
    "stat_descriptives = stat_descriptives[stat_descriptives.SEXE != \"I\"]\n",
    "stat_descriptives = stat_descriptives[stat_descriptives.AGE >18]\n",
    "stat_descriptives = stat_descriptives[stat_descriptives.POIDS < 400]\n",
    "cut_label = ['moins de 18 ans','18-24','25-29','30-34','35-39','40-44','45-49','50-54','55-59','60-64','65-69','70-74','plus de 75 ans']\n",
    "cut_bins = [18,20,25,30,35,40,45,50,55,60,65,70,75,150]\n",
    "stat_descriptives['CATEGORIE_AGE'] = pd.cut(stat_descriptives.AGE, bins=cut_bins, labels=cut_label, right = False)\n",
    "\n",
    "\n",
    "var=['AGE','POIDS','TAILLE','IMC','DUREE_SEJOUR']\n",
    "for v in stat_descriptives[var]:\n",
    "    sns.set()\n",
    "    chart = sns.distplot(stat_descriptives[v])\n",
    "    chart = plt.xlabel(v)\n",
    "    chart = plt.ylabel('Pourcentage')\n",
    "    chart = plt.title(\"Répartition au sein de l'échantillon\")\n",
    "    plt.show()\n",
    "    \n",
    "    sns.set()\n",
    "    chart = sns.boxplot(x=stat_descriptives.CATEGORIE_AGE, y=stat_descriptives[v])\n",
    "    chart = plt.xlabel('AGE')\n",
    "    chart = plt.ylabel(v)\n",
    "    chart = plt.title(\"Boxplot en fonction de la classe d'âge\")\n",
    "    plt.xticks(\n",
    "        rotation=45, \n",
    "        horizontalalignment='right',\n",
    "        fontweight='light')\n",
    "    plt.show()\n",
    "        \n"
   ]
  },
  {
   "cell_type": "code",
   "execution_count": null,
   "metadata": {},
   "outputs": [],
   "source": [
    "### Détection des valeurs aberrantes"
   ]
  },
  {
   "cell_type": "markdown",
   "metadata": {},
   "source": [
    "## Outliers management"
   ]
  },
  {
   "cell_type": "code",
   "execution_count": null,
   "metadata": {},
   "outputs": [],
   "source": [
    "##robjects.r(\"outlier_values <- boxplot.stats(inputData$pressure_height)$out\")\n",
    "pandas2ri.activate()\n",
    "var=['AGE','POIDS','TAILLE','IMC','DUREE_SEJOUR']\n",
    "for i in stat_descriptives[var]:\n",
    "    with localconverter(ro.default_converter + pandas2ri.converter):\n",
    "        df_summary = grdevices.boxplot_stats(stat_descriptives[i])\n",
    "        \n",
    "    with localconverter(ro.default_converter + pandas2ri.converter):\n",
    "        pd_from_r_df = np.asarray(ro.conversion.rpy2py(df_summary))\n",
    "        print(i,pd_from_r_df[0])\n",
    "pandas2ri.deactivate()"
   ]
  },
  {
   "cell_type": "code",
   "execution_count": null,
   "metadata": {},
   "outputs": [],
   "source": [
    "data_poids = stat_descriptives['POIDS'] < 119\n",
    "data_poids2 = stat_descriptives['POIDS'] > 28\n",
    "data_age = stat_descriptives['AGE'] < 106\n",
    "data_age2 = stat_descriptives['AGE'] > 19\n",
    "data_taille = stat_descriptives['TAILLE'] < 194\n",
    "data_taille2 = stat_descriptives['TAILLE'] > 143\n",
    "data_imc = stat_descriptives['IMC'] < 40\n",
    "data_imc2 = stat_descriptives['IMC'] > 11.7\n",
    "data_sejour = stat_descriptives['DUREE_SEJOUR'] < 16\n",
    "data_select = stat_descriptives[data_age & data_taille2 & data_taille & data_poids & data_age2 & data_poids2 & data_imc & data_imc2 & data_sejour]\n"
   ]
  },
  {
   "cell_type": "code",
   "execution_count": null,
   "metadata": {},
   "outputs": [],
   "source": [
    "var=['AGE','POIDS','TAILLE','IMC','DUREE_SEJOUR']\n",
    "for v in data_select[var]:\n",
    "    sns.set()\n",
    "    chart = sns.distplot(data_select[v])\n",
    "    chart = plt.xlabel(v)\n",
    "    chart = plt.ylabel('Pourcentage')\n",
    "    chart = plt.title(\"Répartition au sein de l'échantillon\")\n",
    "    plt.show()\n",
    "    \n",
    "    sns.set()\n",
    "    chart = sns.boxplot(y=data_select[v])\n",
    "    chart = plt.ylabel(v)\n",
    "    chart = plt.title(v)\n",
    "    plt.show()"
   ]
  },
  {
   "cell_type": "markdown",
   "metadata": {},
   "source": [
    "## Statistical analysis"
   ]
  },
  {
   "cell_type": "markdown",
   "metadata": {},
   "source": [
    "### Quantitative variables"
   ]
  },
  {
   "cell_type": "code",
   "execution_count": null,
   "metadata": {},
   "outputs": [],
   "source": [
    "var=['AGE','POIDS','TAILLE','IMC', 'DUREE_SEJOUR']\n",
    "for v in [var] :\n",
    "    stat_descriptives_r = data_select.loc[:,v]\n",
    "    \n",
    "    pandas2ri.activate()\n",
    "    with localconverter(ro.default_converter + pandas2ri.converter):\n",
    "      df_summary = base.summary(stat_descriptives_r)    \n",
    "    print(v,df_summary)\n",
    "\n",
    "    \n",
    "print(statistics.stdev(data_select.AGE))\n",
    "print(statistics.stdev(data_select.POIDS))\n",
    "print(statistics.stdev(data_select.TAILLE))\n",
    "print(statistics.stdev(data_select.IMC))"
   ]
  },
  {
   "cell_type": "code",
   "execution_count": null,
   "metadata": {},
   "outputs": [],
   "source": [
    "sns.set()\n",
    "chart = sns.boxplot(x=data_select.SERVICE, y=data_select['DUREE_SEJOUR'])\n",
    "chart = plt.xlabel('AGE')\n",
    "chart = plt.ylabel(v)\n",
    "chart = plt.title(\"Boxplot en fonction de la classe d'âge\")\n",
    "plt.xticks(\n",
    "    rotation=45, \n",
    "    horizontalalignment='right',\n",
    "    fontweight='light')\n",
    "plt.show()"
   ]
  },
  {
   "cell_type": "markdown",
   "metadata": {},
   "source": [
    "### Qualitative variables"
   ]
  },
  {
   "cell_type": "code",
   "execution_count": null,
   "metadata": {},
   "outputs": [],
   "source": [
    "vqList=['CATEGORIE_AGE','CATEGORIE_IMC_ADULTE','ASA', 'CATEGORIE_ASA','SEXE']\n",
    "for vq in data_select[vqList]:\n",
    "    sns.countplot(data_select[vq])\n",
    "    plt.xticks(\n",
    "        rotation=45, \n",
    "        horizontalalignment='right',\n",
    "        fontweight='light')\n",
    "    plt.show()"
   ]
  },
  {
   "cell_type": "code",
   "execution_count": null,
   "metadata": {},
   "outputs": [],
   "source": [
    "vqList=['CATEGORIE_AGE','CATEGORIE_IMC_ADULTE','ASA', 'CATEGORIE_ASA','SEXE']\n",
    "data_qual = data_select.loc[:,vqList]\n",
    "data_qual.info()\n",
    "\n",
    "data_qual.ASA = data_qual.ASA.astype('category')\n",
    "data_qual.CATEGORIE_ASA = data_qual.CATEGORIE_ASA.astype('category')\n",
    "data_qual.SEXE = data_qual.SEXE.astype('category')\n",
    "data_qual.CATEGORIE_AGE = data_qual.CATEGORIE_AGE.astype('category')\n",
    "data_qual.CATEGORIE_IMC_ADULTE = data_qual.CATEGORIE_IMC_ADULTE.astype('category')\n",
    "\n",
    "for vq in data_select[vqList]:\n",
    "    data_sel=data_qual[vq]\n",
    "    pandas2ri.activate()\n",
    "    with localconverter(ro.default_converter + pandas2ri.converter):\n",
    "      df_summary = questionr.freq(data_sel)\n",
    "    print('\\n',vq,'\\n',df_summary)\n",
    "    pandas2ri.deactivate()\n",
    "    "
   ]
  },
  {
   "cell_type": "markdown",
   "metadata": {},
   "source": [
    "## Inferential analysis"
   ]
  },
  {
   "cell_type": "markdown",
   "metadata": {},
   "source": [
    "### ANOVA"
   ]
  },
  {
   "cell_type": "markdown",
   "metadata": {},
   "source": [
    "#### Subset principal set into two group : ASA-low and ASA-high"
   ]
  },
  {
   "cell_type": "code",
   "execution_count": null,
   "metadata": {},
   "outputs": [],
   "source": [
    "data_ASAinf = data_select.loc[data_select['CATEGORIE_ASA'] == 'ASA1-2']\n",
    "print(data_ASAinf.shape) # Vérification du nombre correct de ligne\n",
    "print(data_ASAinf.columns)\n",
    "\n",
    "data_ASAsup = data_select.loc[data_select['CATEGORIE_ASA'] == 'ASA3-4-5']\n",
    "print(data_ASAsup.shape) # Vérification du nombre correct de ligne\n",
    "print(data_ASAsup.columns)"
   ]
  },
  {
   "cell_type": "code",
   "execution_count": null,
   "metadata": {},
   "outputs": [],
   "source": [
    "On"
   ]
  },
  {
   "cell_type": "markdown",
   "metadata": {},
   "source": [
    "#### Unbalanced datasets, downgradation of the highest one"
   ]
  },
  {
   "cell_type": "code",
   "execution_count": null,
   "metadata": {},
   "outputs": [],
   "source": [
    "data_ASAsup = resample(data_ASAsup,\n",
    "                       replace=False,\n",
    "                       n_samples=33530,\n",
    "                       random_state=123) \n",
    "print(data_ASAsup.shape)"
   ]
  },
  {
   "cell_type": "markdown",
   "metadata": {},
   "source": [
    "#### Normality test on explained variable"
   ]
  },
  {
   "cell_type": "code",
   "execution_count": null,
   "metadata": {},
   "outputs": [],
   "source": [
    "with localconverter(ro.default_converter + pandas2ri.converter):\n",
    "    modele = nortest.lillie_test(data_ASAinf[\"DUREE_SEJOUR\"])\n",
    "with localconverter(ro.default_converter + pandas2ri.converter):\n",
    "    pd_from_r_df = np.asarray(ro.conversion.rpy2py(modele))\n",
    "    print(\"\\n Normality test on sample with ASA 1 and 2 \\n\")\n",
    "    print('D=',pd_from_r_df[0])\n",
    "    print('p_value =', pd_from_r_df[1], '* \\n * : < 2.2E-16')"
   ]
  },
  {
   "cell_type": "code",
   "execution_count": 33,
   "metadata": {},
   "outputs": [
    {
     "name": "stdout",
     "output_type": "stream",
     "text": [
      "\n",
      " Normality test on sample with ASA 3, 4 and 5 \n",
      "\n",
      "D= [0.18713604]\n",
      "p_value = [0.] * \n",
      " * : < à 2.2E-16\n",
      "\n",
      "\n",
      " Samples are not normality distributed \n",
      "\n"
     ]
    }
   ],
   "source": [
    "pandas2ri.deactivate()\n",
    "\n",
    "with localconverter(ro.default_converter + pandas2ri.converter):\n",
    "    modele = nortest.lillie_test(data_ASAsup[\"DUREE_SEJOUR\"])\n",
    "with localconverter(ro.default_converter + pandas2ri.converter):\n",
    "    pd_from_r_df = np.asarray(ro.conversion.rpy2py(modele))\n",
    "    print(\"\\n Normality test on sample with ASA 3, 4 and 5 \\n\")\n",
    "    print('D=',pd_from_r_df[0])\n",
    "    print('p_value =', pd_from_r_df[1], '* \\n * : < à 2.2E-16')\n",
    "pandas2ri.deactivate()\n",
    "\n",
    "print(\"\\n\\n Samples are not normality distributed \\n\")"
   ]
  },
  {
   "cell_type": "markdown",
   "metadata": {},
   "source": [
    "###### Wilcoxon test on mean comparison between sex no matter ASA groups"
   ]
  },
  {
   "cell_type": "code",
   "execution_count": null,
   "metadata": {},
   "outputs": [],
   "source": [
    "data_M = data_select.loc[data_select['SEXE'] == 'M']\n",
    "print(data_M.shape) # Vérification du nombre correct de ligne\n",
    "print(data_M.columns)\n",
    "\n",
    "data_F = data_select.loc[data_select['SEXE'] == 'F']\n",
    "print(data_F.shape) # Vérification du nombre correct de ligne\n",
    "print(data_F.columns)\n",
    "\n",
    "with localconverter(ro.default_converter + pandas2ri.converter):\n",
    "    modele = stats.wilcox_test(data_M[\"DUREE_SEJOUR\"],data_F[\"DUREE_SEJOUR\"])\n",
    "with localconverter(ro.default_converter + pandas2ri.converter):\n",
    "    pd_from_r_df = np.asarray(ro.conversion.rpy2py(modele))\n",
    "    print('D=',pd_from_r_df[0])\n",
    "    print('p_value =', pd_from_r_df[2], '* \\n * : < à 2.2E-16')\n",
    "pandas2ri.deactivate()\n",
    "\n",
    "print(data_M.DUREE_SEJOUR.mean())\n",
    "print(data_F.DUREE_SEJOUR.mean())"
   ]
  },
  {
   "cell_type": "markdown",
   "metadata": {},
   "source": [
    "##### Khi-2 test on ASA 3-4-5 category"
   ]
  },
  {
   "cell_type": "code",
   "execution_count": null,
   "metadata": {},
   "outputs": [],
   "source": [
    "var_anova_1=['SEXE','CATEGORIE_IMC_ADULTE', 'CATEGORIE_AGE', ]\n",
    "for i in var_anova_1:\n",
    "    sns.boxplot(y=data_ASAsup.DUREE_SEJOUR, x=data_ASAsup[i])\n",
    "    plt.show()"
   ]
  },
  {
   "cell_type": "code",
   "execution_count": null,
   "metadata": {},
   "outputs": [],
   "source": [
    "vqList=['SEXE','CATEGORIE_IMC_ADULTE']\n",
    "for i in vqList:\n",
    "        col = [\"CATEGORIE_AGE\",i]\n",
    "        print(col)\n",
    "        table_khi2 = data_ASAsup[col]\n",
    "        tab_cont = table_khi2.pivot_table(index = 'CATEGORIE_AGE', columns = i ,aggfunc =len)\n",
    "        print('\\n\\n\\n ASA3-4-5 category \\n\\n\\n Contigency table : \\n\\n',tab_cont)\n",
    "        pandas2ri.activate()\n",
    "        with localconverter(ro.default_converter + pandas2ri.converter):\n",
    "          res_chi2 = stats.chisq_test(tab_cont)\n",
    "        print(res_chi2)\n",
    "        pandas2ri.deactivate()"
   ]
  },
  {
   "cell_type": "code",
   "execution_count": null,
   "metadata": {},
   "outputs": [],
   "source": [
    "vqList=['CATEGORIE_AGE','CATEGORIE_IMC_ADULTE']\n",
    "for i in vqList:\n",
    "        col = [\"SEXE\",i]\n",
    "        print(col)\n",
    "        table_khi2 = data_ASAsup[col]\n",
    "        tab_cont = table_khi2.pivot_table(index = 'SEXE', columns = i ,aggfunc =len)\n",
    "        print('\\n\\n\\n ASA3-4-5 Category \\n\\n\\n Contigency table : \\n\\n',tab_cont)\n",
    "        pandas2ri.activate()\n",
    "        with localconverter(ro.default_converter + pandas2ri.converter):\n",
    "          res_chi2 = stats.chisq_test(tab_cont)\n",
    "        print(res_chi2)\n",
    "        pandas2ri.deactivate()"
   ]
  },
  {
   "cell_type": "code",
   "execution_count": null,
   "metadata": {},
   "outputs": [],
   "source": [
    "vqList=['CATEGORIE_AGE','SEXE']\n",
    "for i in vqList:\n",
    "        col = ['CATEGORIE_IMC_ADULTE',i]\n",
    "        table_khi2 = data_ASAsup[col]\n",
    "        print(table_khi2)\n",
    "        tab_cont = table_khi2.pivot_table(index = 'CATEGORIE_IMC_ADULTE', columns = i ,aggfunc =len)\n",
    "        print('\\n\\n\\n ASA3-4-5 category \\n\\n\\n Contigency table : \\n\\n',tab_cont)\n",
    "        pandas2ri.activate()\n",
    "        with localconverter(ro.default_converter + pandas2ri.converter):\n",
    "          res_chi2 = stats.chisq_test(tab_cont)\n",
    "        print(res_chi2)\n",
    "        pandas2ri.deactivate()"
   ]
  },
  {
   "cell_type": "markdown",
   "metadata": {},
   "source": [
    "###### Wilcoxon test for mean comparison based on sex within ASA 3-4-5 group"
   ]
  },
  {
   "cell_type": "code",
   "execution_count": null,
   "metadata": {},
   "outputs": [],
   "source": [
    "data_M = data_ASAsup.loc[data_select['SEXE'] == 'M']\n",
    "print(data_M.shape) # Vérification du nombre correct de ligne\n",
    "print(data_M.columns)\n",
    "\n",
    "data_F = data_ASAsup.loc[data_select['SEXE'] == 'F']\n",
    "print(data_F.shape) # Vérification du nombre correct de ligne\n",
    "print(data_F.columns)\n",
    "\n",
    "with localconverter(ro.default_converter + pandas2ri.converter):\n",
    "    modele = stats.wilcox_test(data_M[\"DUREE_SEJOUR\"],data_F[\"DUREE_SEJOUR\"])\n",
    "print(res_chi2)\n",
    "pandas2ri.deactivate()\n",
    "\n",
    "print(data_M.DUREE_SEJOUR.mean())\n",
    "print(data_F.DUREE_SEJOUR.mean())"
   ]
  },
  {
   "cell_type": "markdown",
   "metadata": {},
   "source": [
    "##### Khi-2 test on ASA 1-2 category"
   ]
  },
  {
   "cell_type": "code",
   "execution_count": null,
   "metadata": {},
   "outputs": [],
   "source": [
    "vqList=['SEXE','CATEGORIE_IMC_ADULTE']\n",
    "for i in vqList:\n",
    "        col = [\"CATEGORIE_AGE\",i]\n",
    "        print(col)\n",
    "        table_khi2 = data_ASAinf[col]\n",
    "        tab_cont = table_khi2.pivot_table(index = 'CATEGORIE_AGE', columns = i ,aggfunc =len)\n",
    "        print('\\n\\n\\n Catégorie ASA 1 et 2 \\n\\n\\n Contigency table : \\n\\n',tab_cont)\n",
    "        pandas2ri.activate()\n",
    "        with localconverter(ro.default_converter + pandas2ri.converter):\n",
    "          res_chi2 = stats.chisq_test(tab_cont)\n",
    "        print(res_chi2)\n",
    "        pandas2ri.deactivate()"
   ]
  },
  {
   "cell_type": "code",
   "execution_count": null,
   "metadata": {},
   "outputs": [],
   "source": [
    "vqList=['CATEGORIE_AGE','CATEGORIE_IMC_ADULTE']\n",
    "for i in vqList:\n",
    "        col = [\"SEXE\",i]\n",
    "        print(col)\n",
    "        table_khi2 = data_ASAinf[col]\n",
    "        tab_cont = table_khi2.pivot_table(index = 'SEXE', columns = i ,aggfunc =len)\n",
    "        print('\\n\\n\\n Catégorie ASA 1 et 2 \\n\\n\\n Contigency table : \\n\\n',tab_cont)\n",
    "        pandas2ri.activate()\n",
    "        with localconverter(ro.default_converter + pandas2ri.converter):\n",
    "          res_chi2 = stats.chisq_test(tab_cont)\n",
    "        print(res_chi2)\n",
    "        pandas2ri.deactivate()"
   ]
  },
  {
   "cell_type": "code",
   "execution_count": null,
   "metadata": {},
   "outputs": [],
   "source": [
    "vqList=['CATEGORIE_AGE','SEXE']\n",
    "for i in vqList:\n",
    "        col = ['CATEGORIE_IMC_ADULTE',i]\n",
    "        table_khi2 = data_ASAinf[col]\n",
    "        print(table_khi2)\n",
    "        tab_cont = table_khi2.pivot_table(index = 'CATEGORIE_IMC_ADULTE', columns = i ,aggfunc =len)\n",
    "        print('\\n\\n\\n Catégorie ASA 1 et 2 \\n\\n\\n Contigency table : \\n\\n',tab_cont)\n",
    "        pandas2ri.activate()\n",
    "        with localconverter(ro.default_converter + pandas2ri.converter):\n",
    "          res_chi2 = stats.chisq_test(tab_cont)\n",
    "        print(res_chi2)\n",
    "        pandas2ri.deactivate()"
   ]
  },
  {
   "cell_type": "markdown",
   "metadata": {},
   "source": [
    "###### Wilcoxon test for mean comparison based on sex within ASA 1-2 group"
   ]
  },
  {
   "cell_type": "code",
   "execution_count": null,
   "metadata": {},
   "outputs": [],
   "source": [
    "data_M = data_ASAinf.loc[data_select['SEXE'] == 'M']\n",
    "print(data_M.shape) # Vérification du nombre correct de ligne\n",
    "print(data_M.columns)\n",
    "\n",
    "data_F = data_ASAinf.loc[data_select['SEXE'] == 'F']\n",
    "print(data_F.shape) # Vérification du nombre correct de ligne\n",
    "print(data_F.columns)\n",
    "\n",
    "with localconverter(ro.default_converter + pandas2ri.converter):\n",
    "    modele = stats.wilcox_test(data_M[\"DUREE_SEJOUR\"],data_F[\"DUREE_SEJOUR\"])\n",
    "print(res_chi2)\n",
    "pandas2ri.deactivate()\n",
    "\n",
    "print(data_M.DUREE_SEJOUR.mean())\n",
    "print(data_F.DUREE_SEJOUR.mean())"
   ]
  },
  {
   "cell_type": "markdown",
   "metadata": {},
   "source": [
    "### Wilcoxon test for mean comparison "
   ]
  },
  {
   "cell_type": "code",
   "execution_count": null,
   "metadata": {},
   "outputs": [],
   "source": [
    "data_sejour_ASAinf = data_ASAinf.loc[data_select['CATEGORIE_ASA'] == 'ASA1-2']\n",
    "print(data_sejour_ASAinf.shape) # Vérification du nombre correct de ligne\n",
    "print(data_sejour_ASAinf.columns)\n",
    "\n",
    "data_sejour_ASAsup = data_ASAsup.loc[data_select['CATEGORIE_ASA'] == 'ASA3-4-5']\n",
    "print(data_sejour_ASAsup.shape) # Vérification du nombre correct de ligne\n",
    "print(data_sejour_ASAsup.columns)\n",
    "\n",
    "with localconverter(ro.default_converter + pandas2ri.converter):\n",
    "    modele = stats.wilcox_test(data_sejour_ASAinf[\"DUREE_SEJOUR\"],data_sejour_ASAsup[\"DUREE_SEJOUR\"])\n",
    "print(res_chi2)\n",
    "pandas2ri.deactivate()\n",
    "\n",
    "print(data_sejour_ASAinf.DUREE_SEJOUR.mean())\n",
    "print(data_sejour_ASAsup.DUREE_SEJOUR.mean())"
   ]
  },
  {
   "cell_type": "code",
   "execution_count": null,
   "metadata": {},
   "outputs": [],
   "source": []
  }
 ],
 "metadata": {
  "kernelspec": {
   "display_name": "Python 3",
   "language": "python",
   "name": "python3"
  },
  "language_info": {
   "codemirror_mode": {
    "name": "ipython",
    "version": 3
   },
   "file_extension": ".py",
   "mimetype": "text/x-python",
   "name": "python",
   "nbconvert_exporter": "python",
   "pygments_lexer": "ipython3",
   "version": "3.6.9"
  }
 },
 "nbformat": 4,
 "nbformat_minor": 4
}
